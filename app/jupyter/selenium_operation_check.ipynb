{
 "cells": [
  {
   "cell_type": "code",
   "execution_count": null,
   "metadata": {},
   "outputs": [],
   "source": [
    "from selenium.webdriver.firefox.webdriver import WebDriver\n",
    "from selenium.webdriver.firefox import service\n",
    "from selenium.webdriver.firefox.options import Options\n",
    "#from selenium.webdriver.remote.webdriver import WebDriver\n",
    "from selenium.webdriver.remote.webelement import WebElement\n",
    "from selenium.webdriver.support.wait import WebDriverWait\n",
    "from selenium.webdriver.common.by import By\n",
    "from selenium.webdriver.support import expected_conditions as EC\n"
   ]
  },
  {
   "cell_type": "code",
   "execution_count": null,
   "metadata": {},
   "outputs": [],
   "source": [
    "driver_path = '/usr/local/bin/geckodriver'\n",
    "firefox_service = service.Service(executable_path=driver_path)\n",
    "SELENIUM_DRIVER_SET_PREFERENCE: dict[str,int] = {\n",
    "    'permissions.default.image': 2,                 # 画像のダウンロード禁止\n",
    "    'permissions.default.image.animation_mode': 2,  # gitなどのアニメーションのダウンロード禁止\n",
    "    'permissions.default.stylesheet': 2,            # cssのダウンロード禁止\n",
    "}\n",
    "driver_options: Options = Options()\n",
    "#driver_options.add_argument('permissions.default.image=2')\n",
    "for set_preference_key, set_preference_value in SELENIUM_DRIVER_SET_PREFERENCE.items():\n",
    "    driver_options.set_preference(set_preference_key, set_preference_value)\n",
    "driver = WebDriver(service=firefox_service, options=driver_options)"
   ]
  },
  {
   "cell_type": "code",
   "execution_count": null,
   "metadata": {},
   "outputs": [],
   "source": [
    "driver.get(\"https://mainichi.jp/flash/\")"
   ]
  },
  {
   "cell_type": "code",
   "execution_count": null,
   "metadata": {},
   "outputs": [],
   "source": [
    "target_article_element = f'#article-list > ul > li:nth-child(20)'\n",
    "WebDriverWait(driver, 10).until(\n",
    "                EC.presence_of_element_located((By.CSS_SELECTOR, target_article_element)))\n",
    "_ = driver.find_elements_by_css_selector('#article-list > ul > li > a[href]')\n",
    "links: list = [link.get_attribute(\"href\") for link in _]\n",
    "#print(len(links))\n",
    "#print(links)"
   ]
  },
  {
   "cell_type": "code",
   "execution_count": null,
   "metadata": {},
   "outputs": [],
   "source": [
    "elem: WebElement = driver.find_element_by_css_selector(\n",
    "    'div.main-contents span.link-more')\n",
    "elem.location_once_scrolled_into_view\n",
    "elem.click()\n",
    "#_ = driver.find_elements_by_css_selector('#article-list > ul > li > a[href]')\n",
    "#print(len(_))"
   ]
  }
 ],
 "metadata": {
  "interpreter": {
   "hash": "689063c9b2dc12dba9972941d84614aafdd9b3849a10a465f4e0dfb87c72b835"
  },
  "kernelspec": {
   "display_name": "Python 3.10.4 ('.venv': venv)",
   "language": "python",
   "name": "python3"
  },
  "language_info": {
   "codemirror_mode": {
    "name": "ipython",
    "version": 3
   },
   "file_extension": ".py",
   "mimetype": "text/x-python",
   "name": "python",
   "nbconvert_exporter": "python",
   "pygments_lexer": "ipython3",
   "version": "3.9.5"
  },
  "orig_nbformat": 4
 },
 "nbformat": 4,
 "nbformat_minor": 2
}
